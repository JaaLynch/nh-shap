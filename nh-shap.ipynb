{
 "cells": [
  {
   "cell_type": "markdown",
   "id": "imposed-pharmacy",
   "metadata": {},
   "source": [
    "# NHANES and SHAP Tutorial"
   ]
  },
  {
   "cell_type": "markdown",
   "id": "american-sarah",
   "metadata": {},
   "source": [
    "## Import Packages"
   ]
  },
  {
   "cell_type": "code",
   "execution_count": 16,
   "id": "valuable-lightweight",
   "metadata": {},
   "outputs": [],
   "source": [
    "import shap\n",
    "import xgboost\n",
    "from sklearn.model_selection import train_test_split\n",
    "import matplotlib.pylab as pl"
   ]
  },
  {
   "cell_type": "markdown",
   "id": "married-symbol",
   "metadata": {},
   "source": [
    "## Import Data"
   ]
  },
  {
   "cell_type": "code",
   "execution_count": 17,
   "id": "paperback-crash",
   "metadata": {},
   "outputs": [],
   "source": [
    "X,y = shap.datasets.nhanesi() \n",
    "X_display,y_display = shap.datasets.nhanesi(display=True) # human readable feature values"
   ]
  },
  {
   "cell_type": "markdown",
   "id": "measured-medicaid",
   "metadata": {},
   "source": [
    "## Process Data for XGBoost"
   ]
  },
  {
   "cell_type": "code",
   "execution_count": 18,
   "id": "elegant-catalyst",
   "metadata": {},
   "outputs": [],
   "source": [
    "xgb_full = xgboost.DMatrix(X, label=y)\n",
    "X_train, X_test, y_train, y_test = train_test_split(X, y, test_size=0.2, random_state=7)\n",
    "xgb_train = xgboost.DMatrix(X_train, label=y_train)\n",
    "xgb_test = xgboost.DMatrix(X_test, label=y_test)"
   ]
  },
  {
   "cell_type": "code",
   "execution_count": null,
   "id": "exterior-hampshire",
   "metadata": {},
   "outputs": [],
   "source": []
  },
  {
   "cell_type": "code",
   "execution_count": null,
   "id": "closing-marks",
   "metadata": {},
   "outputs": [],
   "source": []
  },
  {
   "cell_type": "code",
   "execution_count": null,
   "id": "centered-trademark",
   "metadata": {},
   "outputs": [],
   "source": []
  }
 ],
 "metadata": {
  "kernelspec": {
   "display_name": "Python 3",
   "language": "python",
   "name": "python3"
  },
  "language_info": {
   "codemirror_mode": {
    "name": "ipython",
    "version": 3
   },
   "file_extension": ".py",
   "mimetype": "text/x-python",
   "name": "python",
   "nbconvert_exporter": "python",
   "pygments_lexer": "ipython3",
   "version": "3.7.9"
  }
 },
 "nbformat": 4,
 "nbformat_minor": 5
}
